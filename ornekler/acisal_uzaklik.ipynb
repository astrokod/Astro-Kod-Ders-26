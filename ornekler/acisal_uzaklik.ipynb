{
 "cells": [
  {
   "cell_type": "markdown",
   "metadata": {},
   "source": [
    "# Sirius ve Polaris'in Açısal Uzaklığının Hesabı\n",
    "\n",
    "Sirius:\n",
    "\n",
    "- alpha = 101.2871553 +- 0.03\n",
    "- delta = -16.71611586 +- 0.02\n",
    "\n",
    "Polaris:\n",
    "\n",
    "- alpha = 37.95456067 +- 0.04\n",
    "- delta = 89.26410897 +- 0.01\n"
   ]
  },
  {
   "cell_type": "markdown",
   "metadata": {},
   "source": [
    "## Hesap\n",
    "\n",
    "cos(d) = sin(d1) * sin(d2) + cos(d1) * cos(d2) * sin(a1 - a2)\n",
    "\n",
    "d = acos(sin(d1) * sin(d2) + cos(d1) * cos(d2) * sin(a1 - a2))"
   ]
  },
  {
   "cell_type": "code",
   "execution_count": 1,
   "metadata": {},
   "outputs": [],
   "source": [
    "from epic import Value, Builder, Error"
   ]
  },
  {
   "cell_type": "markdown",
   "metadata": {},
   "source": [
    "Koordinatlar içşin Value objesi oluşturma"
   ]
  },
  {
   "cell_type": "code",
   "execution_count": 2,
   "metadata": {},
   "outputs": [],
   "source": [
    "alpha_s = Value(101.2871553, error=0.03, symbol=\"alpha_s\")\n",
    "delta_s = Value(-16.71611586, error=0.02, symbol=\"delta_s\")\n",
    "\n",
    "alpha_p = Value(37.95456067, error=0.04, symbol=\"alpha_p\")\n",
    "delta_p = Value(89.26410897, error=0.01, symbol=\"delta_p\")"
   ]
  },
  {
   "cell_type": "code",
   "execution_count": 3,
   "metadata": {},
   "outputs": [],
   "source": [
    "b = Builder()\n",
    "e = Error()"
   ]
  },
  {
   "cell_type": "markdown",
   "metadata": {},
   "source": [
    "Derece -> Radian dönüşümü"
   ]
  },
  {
   "cell_type": "code",
   "execution_count": 4,
   "metadata": {
    "scrolled": true
   },
   "outputs": [
    {
     "name": "stdout",
     "output_type": "stream",
     "text": [
      "_alpha_p_r=0.662412513026694±0.0006981111111111112\n"
     ]
    }
   ],
   "source": [
    "alpha_s_r = e.propagate(alpha_s * 3.1415 / 180, (alpha_s, ), symbol=\"alpha_s_r\")\n",
    "delta_s_r = e.propagate(delta_s * 3.1415 / 180, (delta_s, ), symbol=\"delta_s_r\")\n",
    "alpha_p_r = e.propagate(alpha_p * 3.1415 / 180, (alpha_p, ), symbol=\"alpha_p_r\")\n",
    "delta_p_r = e.propagate(delta_p * 3.1415 / 180, (delta_p, ), symbol=\"delta_p_r\")\n",
    "print(alpha_p_r)"
   ]
  },
  {
   "cell_type": "markdown",
   "metadata": {},
   "source": [
    "Açısal uzaklığı hesaplayacak denklemin oluşturulması"
   ]
  },
  {
   "cell_type": "code",
   "execution_count": 5,
   "metadata": {},
   "outputs": [
    {
     "data": {
      "text/latex": [
       "$\\displaystyle \\operatorname{acos}{\\left(\\sin{\\left(\\delta_{p r} \\right)} \\sin{\\left(\\delta_{s r} \\right)} - \\sin{\\left(\\alpha_{p r} - \\alpha_{s r} \\right)} \\cos{\\left(\\delta_{p r} \\right)} \\cos{\\left(\\delta_{s r} \\right)} \\right)}$"
      ],
      "text/plain": [
       "acos(sin(_delta_p_r)*sin(_delta_s_r) - sin(_alpha_p_r - _alpha_s_r)*cos(_delta_p_r)*cos(_delta_s_r))"
      ]
     },
     "execution_count": 5,
     "metadata": {},
     "output_type": "execute_result"
    }
   ],
   "source": [
    "f = b.acos(b.sin(delta_s_r) * b.sin(delta_p_r) + b.cos(delta_s_r) * b.cos(delta_p_r) * b.sin(alpha_s_r - alpha_p_r))\n",
    "f"
   ]
  },
  {
   "cell_type": "markdown",
   "metadata": {},
   "source": [
    "Oluşturulan denklemin ile belirsizliğin yayılması'nın hesaplanması"
   ]
  },
  {
   "cell_type": "code",
   "execution_count": 6,
   "metadata": {},
   "outputs": [],
   "source": [
    "dr = e.propagate(f, (alpha_s_r, delta_s_r, alpha_p_r, delta_p_r), symbol=\"d_r\")"
   ]
  },
  {
   "cell_type": "markdown",
   "metadata": {},
   "source": [
    "Radian -> Derece dönüşümü"
   ]
  },
  {
   "cell_type": "code",
   "execution_count": 7,
   "metadata": {},
   "outputs": [
    {
     "data": {
      "text/plain": [
       "_d_d=106.059±0.022"
      ]
     },
     "execution_count": 7,
     "metadata": {},
     "output_type": "execute_result"
    }
   ],
   "source": [
    "e.propagate(dr * 180 / 3.1415, (dr, ), symbol=\"d_d\").round(3)"
   ]
  },
  {
   "cell_type": "code",
   "execution_count": null,
   "metadata": {},
   "outputs": [],
   "source": []
  }
 ],
 "metadata": {
  "kernelspec": {
   "display_name": "Python 3",
   "language": "python",
   "name": "python3"
  },
  "language_info": {
   "codemirror_mode": {
    "name": "ipython",
    "version": 3
   },
   "file_extension": ".py",
   "mimetype": "text/x-python",
   "name": "python",
   "nbconvert_exporter": "python",
   "pygments_lexer": "ipython3",
   "version": "3.8.3"
  }
 },
 "nbformat": 4,
 "nbformat_minor": 4
}
